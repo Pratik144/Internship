{
 "cells": [
  {
   "cell_type": "code",
   "execution_count": 37,
   "id": "3e6dce3c",
   "metadata": {},
   "outputs": [
    {
     "data": {
      "text/plain": [
       "<Response [403]>"
      ]
     },
     "execution_count": 37,
     "metadata": {},
     "output_type": "execute_result"
    }
   ],
   "source": [
    "#1) Write a python program to display IMDB’s Top rated 100 Indian movies’ data https://www.imdb.com/list/ls056092300/ (i.e. name, rating, year ofrelease) and make data frame. \n",
    "IMDB = requests.get ('https://www.imdb.com/list/ls056092300/')\n",
    "IMDB"
   ]
  },
  {
   "cell_type": "raw",
   "id": "04f00bd7",
   "metadata": {},
   "source": [
    "2) Write a python program to scrape details of all the posts from https://www.patreon.com/coreyms .Scrape the heading, date, content and the likes for the video from the link for the youtube video from the post. \n"
   ]
  },
  {
   "cell_type": "code",
   "execution_count": 33,
   "id": "12ef0aaf",
   "metadata": {},
   "outputs": [
    {
     "data": {
      "text/plain": [
       "[]"
      ]
     },
     "execution_count": 33,
     "metadata": {},
     "output_type": "execute_result"
    }
   ],
   "source": [
    "from bs4 import BeautifulSoup\n",
    "import requests\n",
    "\n",
    "posts = requests.get ('https://www.patreon.com/coreyms')\n",
    "posts\n",
    "\n",
    "soup = BeautifulSoup (posts.content, 'html.parser')\n",
    "\n",
    "heading = []\n",
    "\n",
    "for i in soup.find_all ('span', data_tag_=\"post-title\"):\n",
    "    heading.append(i.text) \n",
    "\n",
    "heading"
   ]
  },
  {
   "cell_type": "raw",
   "id": "b91b87f7",
   "metadata": {},
   "source": [
    "3) Write a python program to scrape house details from mentioned URL. It should include house title, location, area, EMI and price from https://www.nobroker.in/ .Enter three localities which are Indira Nagar, Jayanagar, Rajaji Nagar. \n"
   ]
  },
  {
   "cell_type": "code",
   "execution_count": 34,
   "id": "b22b5475",
   "metadata": {},
   "outputs": [
    {
     "data": {
      "text/plain": [
       "[]"
      ]
     },
     "execution_count": 34,
     "metadata": {},
     "output_type": "execute_result"
    }
   ],
   "source": [
    "details = requests.get ('https://www.nobroker.in/')\n",
    "details\n",
    "\n",
    "Details = BeautifulSoup (details.content, 'html.parser')\n",
    "Details \n",
    "\n",
    "head = []\n",
    "\n",
    "for i in Details.find_all  ('h2'):\n",
    "    head.append(i.txt) \n",
    "\n",
    "head"
   ]
  },
  {
   "cell_type": "code",
   "execution_count": 43,
   "id": "60c0fa96",
   "metadata": {},
   "outputs": [
    {
     "data": {
      "text/plain": [
       "[]"
      ]
     },
     "execution_count": 43,
     "metadata": {},
     "output_type": "execute_result"
    }
   ],
   "source": [
    "#4) Write a python program to scrape first 10 product details which include product name , price , Image URL from https://www.bewakoof.com/bestseller?sort=popular . \n",
    "top = requests.get ('https://www.bewakoof.com/bestseller?sort=popular')\n",
    "top\n",
    "\n",
    "f10 = BeautifulSoup (top.content, 'html.parser')\n",
    "f10 \n",
    "\n",
    "name = []\n",
    "\n",
    "for i in f10.find_all  ('div', class_=\"sc-a6c4ca6a-0 PYPED\"):\n",
    "    name.append(i.txt) \n",
    "name"
   ]
  },
  {
   "cell_type": "code",
   "execution_count": 48,
   "id": "cab3f2e4",
   "metadata": {},
   "outputs": [
    {
     "data": {
      "text/plain": [
       "[None, None]"
      ]
     },
     "execution_count": 48,
     "metadata": {},
     "output_type": "execute_result"
    }
   ],
   "source": [
    "#5) Please visit https://www.cnbc.com/world/?region=world and scrap- \n",
    "#a) headings \n",
    "#b) date \n",
    "#c) News link \n",
    "\n",
    "title = requests.get ('https://www.cnbc.com/world/?region=world')\n",
    "title\n",
    "\n",
    "aa = BeautifulSoup (title.content, 'html.parser')\n",
    "aa \n",
    "\n",
    "h1 = []\n",
    "\n",
    "for i in aa.find_all  ('div', class_=\"SecondaryCard-headline\"):\n",
    "    h1.append(i.txt) \n",
    "h1"
   ]
  },
  {
   "cell_type": "code",
   "execution_count": 49,
   "id": "27fc7cde",
   "metadata": {},
   "outputs": [
    {
     "data": {
      "text/plain": [
       "[]"
      ]
     },
     "execution_count": 49,
     "metadata": {},
     "output_type": "execute_result"
    }
   ],
   "source": [
    "#6) Please visit  https://www.keaipublishing.com/en/journals/artificial-intelligence-in-agriculture/most-downloadedarticles/  and scrap- \n",
    "#a) Paper title \n",
    "#b) date \n",
    "#c) Author \n",
    "\n",
    "paper = requests.get ('https://www.keaipublishing.com/en/journals/artificial-intelligence-in-agriculture/most-downloadedarticles/')\n",
    "paper\n",
    "\n",
    "bb = BeautifulSoup (paper.content, 'html.parser')\n",
    "bb\n",
    "\n",
    "h2 = []\n",
    "\n",
    "for i in Details.find_all  ('div', class_=\"JumpLink-container\"):\n",
    "    h2.append(i.txt) \n",
    "h2"
   ]
  },
  {
   "cell_type": "code",
   "execution_count": null,
   "id": "2678dfaf",
   "metadata": {},
   "outputs": [],
   "source": []
  },
  {
   "cell_type": "code",
   "execution_count": null,
   "id": "9a4d7116",
   "metadata": {},
   "outputs": [],
   "source": []
  },
  {
   "cell_type": "code",
   "execution_count": null,
   "id": "6282dc77",
   "metadata": {},
   "outputs": [],
   "source": []
  },
  {
   "cell_type": "code",
   "execution_count": null,
   "id": "6bc2675f",
   "metadata": {},
   "outputs": [],
   "source": []
  },
  {
   "cell_type": "code",
   "execution_count": null,
   "id": "91d4546c",
   "metadata": {},
   "outputs": [],
   "source": []
  }
 ],
 "metadata": {
  "kernelspec": {
   "display_name": "Python 3 (ipykernel)",
   "language": "python",
   "name": "python3"
  },
  "language_info": {
   "codemirror_mode": {
    "name": "ipython",
    "version": 3
   },
   "file_extension": ".py",
   "mimetype": "text/x-python",
   "name": "python",
   "nbconvert_exporter": "python",
   "pygments_lexer": "ipython3",
   "version": "3.10.9"
  }
 },
 "nbformat": 4,
 "nbformat_minor": 5
}
