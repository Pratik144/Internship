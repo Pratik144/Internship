{
 "cells": [
  {
   "cell_type": "code",
   "execution_count": 1,
   "id": "28bc05cd",
   "metadata": {},
   "outputs": [],
   "source": []
  },
  {
   "cell_type": "code",
   "execution_count": 22,
   "id": "b1befd94",
   "metadata": {},
   "outputs": [
    {
     "name": "stdout",
     "output_type": "stream",
     "text": [
      "Python:exercise::PHP:exercise:\n"
     ]
    }
   ],
   "source": [
    "#Question 1- Write a Python program to replace all occurrences of a space, comma, or dot with a colon.\n",
    "\n",
    "import re\n",
    "\n",
    "sampletext = 'Python exercise, PHP exercise.'\n",
    "\n",
    "a = re.sub((\"\\s|\\,|\\.\"),\":\",sampletext)\n",
    "\n",
    "print (a)"
   ]
  },
  {
   "cell_type": "code",
   "execution_count": 67,
   "id": "2f7affb7",
   "metadata": {},
   "outputs": [
    {
     "name": "stdout",
     "output_type": "stream",
     "text": [
      "       Summary\n",
      "0  hello word!\n",
      "1         test\n",
      "2   fourfivesi\n"
     ]
    }
   ],
   "source": [
    "#Question 2 Create a dataframe using the dictionary below and remove everything (commas (,), !, XXXX, ;, etc.) from the columns except words.\n",
    "\n",
    "\n",
    "import re\n",
    "import pandas as pd\n",
    "\n",
    "dict = {'Summary':['hello. word!','xxxxx test','123four,five:;six...']}\n",
    "\n",
    "df = pd.DataFrame(dict)\n",
    "\n",
    "\n",
    "df['Summary'] = [re.sub(\"\\,|\\.|x|\\d|\\:|\\;\",\"\",x) for x in df['Summary']]\n",
    "\n",
    "print (df)"
   ]
  },
  {
   "cell_type": "code",
   "execution_count": 83,
   "id": "51d0c868",
   "metadata": {},
   "outputs": [
    {
     "name": "stdout",
     "output_type": "stream",
     "text": [
      "['learning', 'RegEx']\n"
     ]
    }
   ],
   "source": [
    "# Question 3 Create a function in python to find all words that are at least 4 characters long in a string. The use of the re.compile() method is mandatory.\n",
    "\n",
    "import re\n",
    "\n",
    "text = \"I am learning RegEx.\"\n",
    "\n",
    "def Pratik(text):\n",
    "  pattern = re.compile(r\"\\b\\w{4,}\\b\")\n",
    "  matches = pattern.findall(text)\n",
    "  return matches\n",
    "\n",
    "d = Pratik(text)\n",
    "print (d)\n"
   ]
  },
  {
   "cell_type": "code",
   "execution_count": 84,
   "id": "51d094e0",
   "metadata": {},
   "outputs": [
    {
     "name": "stdout",
     "output_type": "stream",
     "text": [
      "['RegEx']\n"
     ]
    }
   ],
   "source": [
    "# Question 4 Create a function in python to find all three, four, and five character words in a string. The use of the re.compile() method is mandatory.\n",
    "\n",
    "import re\n",
    "\n",
    "text = \"I am learning RegEx in .\"\n",
    "\n",
    "def abc(text):\n",
    "  pattern = re.compile(r\"\\b\\w{3,5}\\b\")\n",
    "  matches = pattern.findall(text)\n",
    "  return matches\n",
    "\n",
    "d = abc(text)\n",
    "print (d)\n"
   ]
  },
  {
   "cell_type": "code",
   "execution_count": 101,
   "id": "baf40df1",
   "metadata": {},
   "outputs": [
    {
     "name": "stdout",
     "output_type": "stream",
     "text": [
      "['example .com', 'hr@fliprobo .com', 'github .com', 'Hello Data Science World', 'Data Scientist']\n"
     ]
    }
   ],
   "source": [
    "# Question 5 Create a function in Python to remove the parenthesis in a list of strings. The use of the re.compile() method is mandatory.\n",
    "\n",
    "import re\n",
    "\n",
    "def bcd(list):\n",
    "\n",
    "    pattern = re.compile(r\"\\(|\\)\") \n",
    "    list1 = [pattern.sub(\"\", string) for string in list]\n",
    "    return list1\n",
    "\n",
    "list = [\"example (.com)\", \"hr@fliprobo (.com)\", \"github (.com)\", \"Hello (Data Science World)\", \"Data (Scientist)\"]\n",
    "list3 = bcd(list)\n",
    "\n",
    "print(list3)"
   ]
  },
  {
   "cell_type": "code",
   "execution_count": 104,
   "id": "cb487447",
   "metadata": {},
   "outputs": [
    {
     "name": "stdout",
     "output_type": "stream",
     "text": [
      "['example ', 'hr@fliprobo ', 'github ', 'Hello ', 'Data ']\n"
     ]
    }
   ],
   "source": [
    "#Question 6- Write a python program to remove the parenthesis area from the text stored in the text file using Regular Expression.\n",
    "\n",
    "import re\n",
    "\n",
    "def bcd(list):\n",
    "\n",
    "    pattern = re.compile(r\"\\(.*?\\)\")\n",
    "    list1 = [pattern.sub(\"\", string) for string in list]\n",
    "    return list1\n",
    "\n",
    "list = [\"example (.com)\", \"hr@fliprobo (.com)\", \"github (.com)\", \"Hello (Data Science World)\", \"Data (Scientist)\"]\n",
    "list3 = bcd(list)\n",
    "\n",
    "print(list3)"
   ]
  },
  {
   "cell_type": "code",
   "execution_count": null,
   "id": "87458aa0",
   "metadata": {},
   "outputs": [],
   "source": [
    "#Question 7- Write a regular expression in Python to split a string into uppercase letters.\n",
    "\n",
    "#Question 8- Create a function in python to insert spaces between words starting with numbers.\n",
    "\n"
   ]
  }
 ],
 "metadata": {
  "kernelspec": {
   "display_name": "Python 3 (ipykernel)",
   "language": "python",
   "name": "python3"
  },
  "language_info": {
   "codemirror_mode": {
    "name": "ipython",
    "version": 3
   },
   "file_extension": ".py",
   "mimetype": "text/x-python",
   "name": "python",
   "nbconvert_exporter": "python",
   "pygments_lexer": "ipython3",
   "version": "3.10.9"
  }
 },
 "nbformat": 4,
 "nbformat_minor": 5
}
